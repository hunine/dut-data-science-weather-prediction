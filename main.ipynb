{
 "cells": [
  {
   "cell_type": "markdown",
   "metadata": {},
   "source": [
    "# Bài toán: Dự đoán thời tiết trong ngày:"
   ]
  },
  {
   "cell_type": "markdown",
   "metadata": {},
   "source": [
    "## Xử lý dữ liệu"
   ]
  },
  {
   "cell_type": "code",
   "execution_count": 67,
   "metadata": {},
   "outputs": [],
   "source": [
    "import numpy as np\n",
    "import pandas as pd\n",
    "import seaborn as sns\n",
    "import matplotlib.pyplot as plt\n",
    "from sklearn.model_selection import train_test_split\n",
    "from sklearn.linear_model import LogisticRegression\n",
    "from sklearn.model_selection import RepeatedStratifiedKFold\n",
    "from sklearn.model_selection import GridSearchCV\n",
    "from sklearn.linear_model import LogisticRegression\n",
    "from sklearn.preprocessing import StandardScaler, MinMaxScaler, RobustScaler\n",
    "from sklearn.decomposition import PCA\n",
    "from sklearn.model_selection import cross_val_score\n",
    "from sklearn.metrics import accuracy_score\n",
    "import warnings\n"
   ]
  },
  {
   "cell_type": "markdown",
   "metadata": {},
   "source": [
    "Đọc dữ liệu đầu vào"
   ]
  },
  {
   "cell_type": "code",
   "execution_count": 68,
   "metadata": {},
   "outputs": [],
   "source": [
    "data = pd.read_csv('seattle-weather.csv')\n"
   ]
  },
  {
   "cell_type": "code",
   "execution_count": 69,
   "metadata": {},
   "outputs": [
    {
     "data": {
      "text/html": [
       "<div>\n",
       "<style scoped>\n",
       "    .dataframe tbody tr th:only-of-type {\n",
       "        vertical-align: middle;\n",
       "    }\n",
       "\n",
       "    .dataframe tbody tr th {\n",
       "        vertical-align: top;\n",
       "    }\n",
       "\n",
       "    .dataframe thead th {\n",
       "        text-align: right;\n",
       "    }\n",
       "</style>\n",
       "<table border=\"1\" class=\"dataframe\">\n",
       "  <thead>\n",
       "    <tr style=\"text-align: right;\">\n",
       "      <th></th>\n",
       "      <th>date</th>\n",
       "      <th>precipitation</th>\n",
       "      <th>temp_max</th>\n",
       "      <th>temp_min</th>\n",
       "      <th>wind</th>\n",
       "      <th>weather</th>\n",
       "    </tr>\n",
       "  </thead>\n",
       "  <tbody>\n",
       "    <tr>\n",
       "      <th>0</th>\n",
       "      <td>2012-01-01</td>\n",
       "      <td>0.0</td>\n",
       "      <td>12.8</td>\n",
       "      <td>5.0</td>\n",
       "      <td>4.7</td>\n",
       "      <td>drizzle</td>\n",
       "    </tr>\n",
       "    <tr>\n",
       "      <th>1</th>\n",
       "      <td>2012-01-02</td>\n",
       "      <td>10.9</td>\n",
       "      <td>10.6</td>\n",
       "      <td>2.8</td>\n",
       "      <td>4.5</td>\n",
       "      <td>rain</td>\n",
       "    </tr>\n",
       "    <tr>\n",
       "      <th>2</th>\n",
       "      <td>2012-01-03</td>\n",
       "      <td>0.8</td>\n",
       "      <td>11.7</td>\n",
       "      <td>7.2</td>\n",
       "      <td>2.3</td>\n",
       "      <td>rain</td>\n",
       "    </tr>\n",
       "    <tr>\n",
       "      <th>3</th>\n",
       "      <td>2012-01-04</td>\n",
       "      <td>20.3</td>\n",
       "      <td>12.2</td>\n",
       "      <td>5.6</td>\n",
       "      <td>4.7</td>\n",
       "      <td>rain</td>\n",
       "    </tr>\n",
       "    <tr>\n",
       "      <th>4</th>\n",
       "      <td>2012-01-05</td>\n",
       "      <td>1.3</td>\n",
       "      <td>8.9</td>\n",
       "      <td>2.8</td>\n",
       "      <td>6.1</td>\n",
       "      <td>rain</td>\n",
       "    </tr>\n",
       "  </tbody>\n",
       "</table>\n",
       "</div>"
      ],
      "text/plain": [
       "         date  precipitation  temp_max  temp_min  wind  weather\n",
       "0  2012-01-01            0.0      12.8       5.0   4.7  drizzle\n",
       "1  2012-01-02           10.9      10.6       2.8   4.5     rain\n",
       "2  2012-01-03            0.8      11.7       7.2   2.3     rain\n",
       "3  2012-01-04           20.3      12.2       5.6   4.7     rain\n",
       "4  2012-01-05            1.3       8.9       2.8   6.1     rain"
      ]
     },
     "execution_count": 69,
     "metadata": {},
     "output_type": "execute_result"
    }
   ],
   "source": [
    "data.head()\n"
   ]
  },
  {
   "cell_type": "code",
   "execution_count": 70,
   "metadata": {},
   "outputs": [
    {
     "name": "stdout",
     "output_type": "stream",
     "text": [
      "rain       641\n",
      "sun        640\n",
      "fog        101\n",
      "drizzle     53\n",
      "snow        26\n",
      "Name: weather, dtype: int64\n",
      "Rain:  641\n",
      "Sun:  640\n",
      "Other:  180\n"
     ]
    }
   ],
   "source": [
    "total = data['weather'].count()\n",
    "rain = (data['weather']==\"rain\").sum()\n",
    "sun = (data['weather']==\"sun\").sum()\n",
    "other = total - rain - sun\n",
    "\n",
    "print(data['weather'].value_counts())\n",
    "print(\"Rain: \", rain)\n",
    "print(\"Sun: \", sun)\n",
    "print(\"Other: \", other)"
   ]
  },
  {
   "cell_type": "markdown",
   "metadata": {},
   "source": [
    "Tiến hành bỏ cột **Date**"
   ]
  },
  {
   "cell_type": "code",
   "execution_count": 71,
   "metadata": {},
   "outputs": [],
   "source": [
    "data = data.drop(['date'], axis=1)"
   ]
  },
  {
   "cell_type": "markdown",
   "metadata": {},
   "source": [
    "Chuyển dữ liệu cột Weather về dạng: Rain: 0, Sun: 1, Other: 2"
   ]
  },
  {
   "cell_type": "code",
   "execution_count": 72,
   "metadata": {},
   "outputs": [
    {
     "data": {
      "text/html": [
       "<div>\n",
       "<style scoped>\n",
       "    .dataframe tbody tr th:only-of-type {\n",
       "        vertical-align: middle;\n",
       "    }\n",
       "\n",
       "    .dataframe tbody tr th {\n",
       "        vertical-align: top;\n",
       "    }\n",
       "\n",
       "    .dataframe thead th {\n",
       "        text-align: right;\n",
       "    }\n",
       "</style>\n",
       "<table border=\"1\" class=\"dataframe\">\n",
       "  <thead>\n",
       "    <tr style=\"text-align: right;\">\n",
       "      <th></th>\n",
       "      <th>precipitation</th>\n",
       "      <th>temp_max</th>\n",
       "      <th>temp_min</th>\n",
       "      <th>wind</th>\n",
       "      <th>weather</th>\n",
       "    </tr>\n",
       "  </thead>\n",
       "  <tbody>\n",
       "    <tr>\n",
       "      <th>0</th>\n",
       "      <td>0.0</td>\n",
       "      <td>12.8</td>\n",
       "      <td>5.0</td>\n",
       "      <td>4.7</td>\n",
       "      <td>2</td>\n",
       "    </tr>\n",
       "    <tr>\n",
       "      <th>1</th>\n",
       "      <td>10.9</td>\n",
       "      <td>10.6</td>\n",
       "      <td>2.8</td>\n",
       "      <td>4.5</td>\n",
       "      <td>0</td>\n",
       "    </tr>\n",
       "    <tr>\n",
       "      <th>2</th>\n",
       "      <td>0.8</td>\n",
       "      <td>11.7</td>\n",
       "      <td>7.2</td>\n",
       "      <td>2.3</td>\n",
       "      <td>0</td>\n",
       "    </tr>\n",
       "    <tr>\n",
       "      <th>3</th>\n",
       "      <td>20.3</td>\n",
       "      <td>12.2</td>\n",
       "      <td>5.6</td>\n",
       "      <td>4.7</td>\n",
       "      <td>0</td>\n",
       "    </tr>\n",
       "    <tr>\n",
       "      <th>4</th>\n",
       "      <td>1.3</td>\n",
       "      <td>8.9</td>\n",
       "      <td>2.8</td>\n",
       "      <td>6.1</td>\n",
       "      <td>0</td>\n",
       "    </tr>\n",
       "  </tbody>\n",
       "</table>\n",
       "</div>"
      ],
      "text/plain": [
       "   precipitation  temp_max  temp_min  wind  weather\n",
       "0            0.0      12.8       5.0   4.7        2\n",
       "1           10.9      10.6       2.8   4.5        0\n",
       "2            0.8      11.7       7.2   2.3        0\n",
       "3           20.3      12.2       5.6   4.7        0\n",
       "4            1.3       8.9       2.8   6.1        0"
      ]
     },
     "execution_count": 72,
     "metadata": {},
     "output_type": "execute_result"
    }
   ],
   "source": [
    "data['weather'] = np.where(data['weather'] == 'rain',\n",
    "                           0, np.where(data['weather'] == 'sun', 1, 2))\n",
    "\n",
    "data.head()\n"
   ]
  },
  {
   "cell_type": "markdown",
   "metadata": {},
   "source": [
    "Lựa chọn các cột dùng để dự đoán dữ liệu cho cột **Weather**"
   ]
  },
  {
   "cell_type": "markdown",
   "metadata": {},
   "source": [
    "## Xây dựng, đánh giá mô hình và dự đoán"
   ]
  },
  {
   "cell_type": "markdown",
   "metadata": {},
   "source": [
    "### Hàm"
   ]
  },
  {
   "cell_type": "markdown",
   "metadata": {},
   "source": [
    "Hàm tìm bộ tham số tốt nhất cho Logistic Regresstion"
   ]
  },
  {
   "cell_type": "code",
   "execution_count": 74,
   "metadata": {},
   "outputs": [],
   "source": [
    "def get_hyperparameters(X: np.array, y: np.array):\n",
    "    X_train, X_test, y_train, y_test = train_test_split(\n",
    "        X, y, test_size=0.3, random_state=9)\n",
    "    # Định nghĩa  model và tham số\n",
    "    model = LogisticRegression()\n",
    "    solvers = ['newton-cg', 'lbfgs', 'liblinear', 'sag', 'saga']\n",
    "    penalty = ['none', 'l1', 'l2', 'elasticnet']\n",
    "    c_values = [100, 10, 1.0, 0.1, 0.01]\n",
    "    \n",
    "    grid = dict(solver=solvers, penalty=penalty, C=c_values)\n",
    "    cv = RepeatedStratifiedKFold(n_splits=10, n_repeats=3, random_state=1)\n",
    "    grid_search = GridSearchCV(estimator=model, param_grid=grid,\n",
    "                               n_jobs=-1, cv=cv, scoring='accuracy', error_score=0)\n",
    "    grid_result = grid_search.fit(X_train, y_train)\n",
    "    \n",
    "    return grid_result.best_score_, grid_result.best_params_\n"
   ]
  },
  {
   "cell_type": "markdown",
   "metadata": {},
   "source": [
    "Hàm đánh giá độ chính xác mô hình với cross_val_score"
   ]
  },
  {
   "cell_type": "code",
   "execution_count": 75,
   "metadata": {},
   "outputs": [],
   "source": [
    "# def get_accuracy_by_cross_val_score(X: np.array, y: np.array, best_params={}):\n",
    "#     X_train, X_test, y_train, y_test = train_test_split(\n",
    "#         X, y, test_size=0.3, random_state=1)\n",
    "#     classifier = LogisticRegression() if not len(best_params) else LogisticRegression(\n",
    "#         C=best_params['C'], penalty=best_params['penalty'], solver=best_params['solver'])\n",
    "#     scores = cross_val_score(\n",
    "#         classifier, X_train, y_train, cv=5, scoring='accuracy')\n",
    "#     return scores.mean()\n",
    "\n",
    "def get_accuracy_by_cross_val_score(X: np.array, y: np.array, best_params={}):\n",
    "    classifier = LogisticRegression() if not len(best_params) else LogisticRegression(\n",
    "        C=best_params['C'], penalty=best_params['penalty'], solver=best_params['solver'])\n",
    "    scores = cross_val_score(\n",
    "        classifier, X, y, cv=5, scoring='accuracy')\n",
    "    return scores.mean()\n"
   ]
  },
  {
   "cell_type": "markdown",
   "metadata": {},
   "source": [
    "### Tính độ chính xác của mô hình"
   ]
  },
  {
   "cell_type": "markdown",
   "metadata": {},
   "source": [
    "Đánh giá độ chính xác của mô hình với tham số mặc định"
   ]
  },
  {
   "cell_type": "code",
   "execution_count": 76,
   "metadata": {},
   "outputs": [
    {
     "name": "stdout",
     "output_type": "stream",
     "text": [
      "Đánh giá độ chính xác của mô hình với tham số mặc định: 81.933\n"
     ]
    }
   ],
   "source": [
    "accuracy_default_params = round(get_accuracy_by_cross_val_score(data.drop(\n",
    "    ['weather'], axis=1), data['weather']) * 100, 3)\n",
    "\n",
    "print(\"Đánh giá độ chính xác của mô hình với tham số mặc định: {}\".format(\n",
    "    accuracy_default_params))\n"
   ]
  },
  {
   "cell_type": "markdown",
   "metadata": {},
   "source": [
    "Tìm bộ tham số tốt nhất cho Logistic Regresstion"
   ]
  },
  {
   "cell_type": "code",
   "execution_count": 77,
   "metadata": {},
   "outputs": [
    {
     "name": "stdout",
     "output_type": "stream",
     "text": [
      "Độ chính xác tốt nhất là: 0.829741734881655\n",
      "Bộ siêu tham số: {'C': 100, 'penalty': 'l2', 'solver': 'lbfgs'}\n"
     ]
    }
   ],
   "source": [
    "warnings.filterwarnings('ignore')\n",
    "\n",
    "best_score, best_params = get_hyperparameters(data.drop(\n",
    "    ['weather'], axis=1), data['weather'])\n",
    "\n",
    "print(\"Độ chính xác tốt nhất là: {}\\nBộ siêu tham số: {}\".format(\n",
    "    best_score, best_params))\n"
   ]
  },
  {
   "cell_type": "markdown",
   "metadata": {},
   "source": [
    "Đánh giá độ chính xác của mô hình với siêu tham số"
   ]
  },
  {
   "cell_type": "code",
   "execution_count": 78,
   "metadata": {},
   "outputs": [
    {
     "name": "stdout",
     "output_type": "stream",
     "text": [
      "Đánh giá độ chính xác của mô hình với siêu tham số: 82.687\n"
     ]
    }
   ],
   "source": [
    "accuracy_best_params = round(get_accuracy_by_cross_val_score(data.drop(\n",
    "    ['weather'], axis=1), data['weather'], best_params) * 100, 3)\n",
    "\n",
    "print(\"Đánh giá độ chính xác của mô hình với siêu tham số: {}\".format(\n",
    "    accuracy_best_params))\n"
   ]
  },
  {
   "cell_type": "markdown",
   "metadata": {},
   "source": [
    "So sánh độ chính xác giữa 2 phương pháp"
   ]
  },
  {
   "cell_type": "code",
   "execution_count": 80,
   "metadata": {},
   "outputs": [
    {
     "name": "stdout",
     "output_type": "stream",
     "text": [
      "Độ chính xác chênh lệch giữa mô hình với siêu tham số và mô hình với tham số mặc định: 0.754 %\n"
     ]
    }
   ],
   "source": [
    "print(\"Độ chính xác chênh lệch giữa mô hình với siêu tham số và mô hình với tham số mặc định: {} %\".format(\n",
    "    round((accuracy_best_params - accuracy_default_params), 3)))\n"
   ]
  },
  {
   "cell_type": "markdown",
   "metadata": {},
   "source": [
    "Nhận xét:\n",
    "- Độ chính xác của mô hình với tham số mặc định: **81.933 %**\n",
    "- Độ chính xác của mô hình với siêu tham số: **82.687 %**\n",
    "- Độ chính xác được cải thiện khi mô hình được cấu hình với các siêu tham số **0.754 %**"
   ]
  },
  {
   "cell_type": "markdown",
   "metadata": {},
   "source": [
    "## Áp dụng các kỹ thuật cải thiện độ chính xác"
   ]
  },
  {
   "cell_type": "markdown",
   "metadata": {},
   "source": [
    "### Xử lý ngoại lệ"
   ]
  },
  {
   "cell_type": "markdown",
   "metadata": {},
   "source": [
    "Hàm xử lý ngoại lệ"
   ]
  },
  {
   "cell_type": "code",
   "execution_count": 81,
   "metadata": {},
   "outputs": [],
   "source": [
    "def outliers(data):\n",
    "    upper_boundary = data['Age'].mean() + 3 * data['Age'].std()\n",
    "    lower_boundary = data['Age'].mean() - 3 * data['Age'].std()\n",
    "    data.loc[data['Age'] >= int(upper_boundary), 'Age'] = int(upper_boundary)\n",
    "\n",
    "    IQR = data['Fare'].quantile(0.75) - data['Fare'].quantile(0.25)\n",
    "    upper_bridge = data['Fare'].quantile(0.75) + 3 * IQR\n",
    "    lower_bridge = data['Fare'].quantile(0.25) - 3 * IQR\n",
    "    data.loc[data['Fare'] >= int(upper_bridge),'Fare'] = int(upper_bridge)"
   ]
  },
  {
   "cell_type": "markdown",
   "metadata": {},
   "source": [
    "### Chuẩn hóa"
   ]
  },
  {
   "cell_type": "code",
   "execution_count": 82,
   "metadata": {},
   "outputs": [
    {
     "ename": "NameError",
     "evalue": "name 'mean_accuracy' is not defined",
     "output_type": "error",
     "traceback": [
      "\u001b[1;31m---------------------------------------------------------------------------\u001b[0m",
      "\u001b[1;31mNameError\u001b[0m                                 Traceback (most recent call last)",
      "\u001b[1;32md:\\Workspace\\DUT\\khoa-hoc-du-lieu\\dut-data-science-weather-prediction\\main.ipynb Cell 38'\u001b[0m in \u001b[0;36m<cell line: 17>\u001b[1;34m()\u001b[0m\n\u001b[0;32m     <a href='vscode-notebook-cell:/d%3A/Workspace/DUT/khoa-hoc-du-lieu/dut-data-science-weather-prediction/main.ipynb#ch0000037?line=12'>13</a>\u001b[0m data_robust[\u001b[39m'\u001b[39m\u001b[39mweather\u001b[39m\u001b[39m'\u001b[39m] \u001b[39m=\u001b[39m data[\u001b[39m'\u001b[39m\u001b[39mweather\u001b[39m\u001b[39m'\u001b[39m]\n\u001b[0;32m     <a href='vscode-notebook-cell:/d%3A/Workspace/DUT/khoa-hoc-du-lieu/dut-data-science-weather-prediction/main.ipynb#ch0000037?line=14'>15</a>\u001b[0m \u001b[39m# Tính độ chính xác sau khi chuẩn hóa dữ liệu\u001b[39;00m\n\u001b[0;32m     <a href='vscode-notebook-cell:/d%3A/Workspace/DUT/khoa-hoc-du-lieu/dut-data-science-weather-prediction/main.ipynb#ch0000037?line=15'>16</a>\u001b[0m \u001b[39m# StandardScaler\u001b[39;00m\n\u001b[1;32m---> <a href='vscode-notebook-cell:/d%3A/Workspace/DUT/khoa-hoc-du-lieu/dut-data-science-weather-prediction/main.ipynb#ch0000037?line=16'>17</a>\u001b[0m accuracy_with_z_score \u001b[39m=\u001b[39m \u001b[39mround\u001b[39m(mean_accuracy(data_standard_scaler\u001b[39m.\u001b[39mdrop(\n\u001b[0;32m     <a href='vscode-notebook-cell:/d%3A/Workspace/DUT/khoa-hoc-du-lieu/dut-data-science-weather-prediction/main.ipynb#ch0000037?line=17'>18</a>\u001b[0m     [\u001b[39m'\u001b[39m\u001b[39mweather\u001b[39m\u001b[39m'\u001b[39m], axis\u001b[39m=\u001b[39m\u001b[39m1\u001b[39m), data_standard_scaler[\u001b[39m'\u001b[39m\u001b[39mweather\u001b[39m\u001b[39m'\u001b[39m], best_params) \u001b[39m*\u001b[39m \u001b[39m100\u001b[39m, \u001b[39m3\u001b[39m)\n\u001b[0;32m     <a href='vscode-notebook-cell:/d%3A/Workspace/DUT/khoa-hoc-du-lieu/dut-data-science-weather-prediction/main.ipynb#ch0000037?line=18'>19</a>\u001b[0m \u001b[39m# MinMaxScaler\u001b[39;00m\n\u001b[0;32m     <a href='vscode-notebook-cell:/d%3A/Workspace/DUT/khoa-hoc-du-lieu/dut-data-science-weather-prediction/main.ipynb#ch0000037?line=19'>20</a>\u001b[0m accuracy_with_min_max \u001b[39m=\u001b[39m \u001b[39mround\u001b[39m(mean_accuracy(data_minmax\u001b[39m.\u001b[39mdrop(\n\u001b[0;32m     <a href='vscode-notebook-cell:/d%3A/Workspace/DUT/khoa-hoc-du-lieu/dut-data-science-weather-prediction/main.ipynb#ch0000037?line=20'>21</a>\u001b[0m     [\u001b[39m'\u001b[39m\u001b[39mweather\u001b[39m\u001b[39m'\u001b[39m], axis\u001b[39m=\u001b[39m\u001b[39m1\u001b[39m), data_minmax[\u001b[39m'\u001b[39m\u001b[39mweather\u001b[39m\u001b[39m'\u001b[39m], best_params) \u001b[39m*\u001b[39m \u001b[39m100\u001b[39m, \u001b[39m3\u001b[39m)\n",
      "\u001b[1;31mNameError\u001b[0m: name 'mean_accuracy' is not defined"
     ]
    }
   ],
   "source": [
    "# Chuẩn hóa dữ liệu\n",
    "# StandardScaler\n",
    "data_standard_scaler = pd.DataFrame(\n",
    "    StandardScaler().fit_transform(data), columns=data.columns)\n",
    "data_standard_scaler['weather'] = data['weather']\n",
    "# MinMaxScaler\n",
    "data_minmax = pd.DataFrame(\n",
    "    MinMaxScaler().fit_transform(data), columns=data.columns)\n",
    "data_minmax['weather'] = data['weather']\n",
    "# RobustScaler\n",
    "data_robust = pd.DataFrame(\n",
    "    RobustScaler().fit_transform(data), columns=data.columns)\n",
    "data_robust['weather'] = data['weather']\n",
    "\n",
    "# Tính độ chính xác sau khi chuẩn hóa dữ liệu\n",
    "# StandardScaler\n",
    "accuracy_with_z_score = round(mean_accuracy(data_standard_scaler.drop(\n",
    "    ['weather'], axis=1), data_standard_scaler['weather'], best_params) * 100, 3)\n",
    "# MinMaxScaler\n",
    "accuracy_with_min_max = round(mean_accuracy(data_minmax.drop(\n",
    "    ['weather'], axis=1), data_minmax['weather'], best_params) * 100, 3)\n",
    "# RobustScaler\n",
    "accuracy_with_robust = round(mean_accuracy(data_robust.drop(\n",
    "    ['weather'], axis=1), data_robust['weather'], best_params) * 100, 3)\n",
    "\n",
    "# Kết quả\n",
    "print(\"Độ chính xác mô hình với siêu tham số và chuẩn hóa: {} %\".format(accuracy_with_z_score))\n",
    "print(\"Độ chính xác mô hình với siêu tham số và chuẩn hóa: {} %\".format(accuracy_with_min_max))\n",
    "print(\"Độ chính xác mô hình với siêu tham số và chuẩn hóa: {} %\".format(accuracy_with_robust))\n",
    "print(\"Độ chênh lệch chính xác khi không có chuẩn hóa và có chuẩn hóa là:\",\n",
    "      round((accuracy_with_z_score - accuracy_best_params), 3), \"%\")\n",
    "print(\"Độ chênh lệch chính xác khi không có chuẩn hóa và có chuẩn hóa là:\",\n",
    "      round((accuracy_with_min_max - accuracy_best_params), 3), \"%\")\n",
    "print(\"Độ chênh lệch chính xác khi không có chuẩn hóa và có chuẩn hóa là:\",\n",
    "      round((accuracy_with_robust - accuracy_best_params), 3), \"%\")\n"
   ]
  },
  {
   "cell_type": "markdown",
   "metadata": {},
   "source": [
    "### Giảm chiều dữ liệu"
   ]
  },
  {
   "cell_type": "code",
   "execution_count": null,
   "metadata": {},
   "outputs": [],
   "source": [
    "# data_pca = pd.DataFrame(\n",
    "#     PCA(n_components=3).fit_transform(data), columns=data.columns)\n",
    "# data_pca['weather'] = data['weather']\n",
    "\n",
    "# accuracy_with_pca = round(mean_accuracy(data_pca.drop(\n",
    "#     ['weather'], axis=1), data_pca['weather'], best_params) * 100, 3)\n",
    "\n",
    "# print(accuracy_with_pca - accuracy_best_params)\n",
    "\n",
    "\n",
    "# def test(X, y, best_params):\n",
    "#     list_rs = []\n",
    "#     for i in range(10):\n",
    "#         X_train, X_test, y_train, y_test = train_test_split(X, y, test_size=0.3, random_state=i)\n",
    "#         pca = PCA(n_components=3)\n",
    "#         X_train = pca.fit_transform(X_train)\n",
    "#         X_test = pca.transform(X_test)\n",
    "#         classifier = LogisticRegression(C = best_params['C'], solver = best_params['solver'], penalty = best_params['penalty'])\n",
    "#         classifier.fit(X_train, y_train)\n",
    "#         y_pred = classifier.predict(X_test)\n",
    "#         accuracy = accuracy_score(y_test,y_pred)\n",
    "#         list_rs.append(accuracy)\n",
    "#     return np.array(list_rs).mean()\n",
    "\n",
    "# rs_with_pca = test(data.drop(['weather'], axis=1), data['weather'], best_params)\n",
    "# print(\"Độ chính xác mô hình với siêu tham số và pca:\", round(rs_with_pca* 100,4),\"%\")\n",
    "\n",
    "# def mean_accuracy(X: np.array, y: np.array, best_params={}):\n",
    "#     accuracy_score_array = []\n",
    "\n",
    "#     for i in range(10):\n",
    "#         X_train, X_test, y_train, y_test = train_test_split(\n",
    "#             X, y, test_size=0.3, random_state=i)\n",
    "#         classifier = LogisticRegression() if not len(best_params) else LogisticRegression(\n",
    "#             C=best_params['C'], penalty=best_params['penalty'], solver=best_params['solver'])\n",
    "#         classifier.fit(X_train, y_train)\n",
    "#         y_pred = classifier.predict(X_test)\n",
    "#         accuracy_score_array.append(accuracy_score(y_test, y_pred))\n",
    "\n",
    "#     return np.array(accuracy_score_array).mean()\n",
    "\n"
   ]
  }
 ],
 "metadata": {
  "interpreter": {
   "hash": "a1e27128d8f4ecf00ee81abaf95b1cd7fdb74d17105f7f32dc6f28513f2c5a90"
  },
  "kernelspec": {
   "display_name": "Python 3.10.1 ('dut-data-science-weather-prediction-RjS5cl6t')",
   "language": "python",
   "name": "python3"
  },
  "language_info": {
   "codemirror_mode": {
    "name": "ipython",
    "version": 3
   },
   "file_extension": ".py",
   "mimetype": "text/x-python",
   "name": "python",
   "nbconvert_exporter": "python",
   "pygments_lexer": "ipython3",
   "version": "3.10.1"
  },
  "orig_nbformat": 4
 },
 "nbformat": 4,
 "nbformat_minor": 2
}
