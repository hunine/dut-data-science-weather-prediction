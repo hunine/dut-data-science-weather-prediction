{
 "cells": [
  {
   "cell_type": "markdown",
   "metadata": {},
   "source": [
    "Link to data source: https://www.kaggle.com/datasets/ananthr1/weather-prediction?datasetId=1868601"
   ]
  },
  {
   "cell_type": "markdown",
   "metadata": {},
   "source": [
    "# Bài toán: Dự đoán thời tiết trong ngày từ năm 2012 đến 2015"
   ]
  },
  {
   "cell_type": "markdown",
   "metadata": {},
   "source": [
    "## Xử lý dữ liệu"
   ]
  },
  {
   "cell_type": "code",
   "execution_count": 131,
   "metadata": {},
   "outputs": [],
   "source": [
    "import numpy as np\n",
    "import pandas as pd\n",
    "import seaborn as sns\n",
    "import matplotlib.pyplot as plt\n",
    "from sklearn.model_selection import train_test_split\n",
    "from sklearn.linear_model import LogisticRegression\n",
    "from sklearn.model_selection import RepeatedStratifiedKFold\n",
    "from sklearn.model_selection import GridSearchCV\n",
    "from sklearn.linear_model import LogisticRegression\n",
    "from sklearn.preprocessing import StandardScaler, MinMaxScaler, RobustScaler\n",
    "from sklearn.decomposition import PCA\n",
    "from sklearn.model_selection import cross_val_score\n",
    "import warnings\n"
   ]
  },
  {
   "cell_type": "markdown",
   "metadata": {},
   "source": [
    "Đọc dữ liệu đầu vào"
   ]
  },
  {
   "cell_type": "code",
   "execution_count": 132,
   "metadata": {},
   "outputs": [],
   "source": [
    "data = pd.read_csv('seattle-weather.csv')\n"
   ]
  },
  {
   "cell_type": "code",
   "execution_count": 133,
   "metadata": {},
   "outputs": [
    {
     "data": {
      "text/html": [
       "<div>\n",
       "<style scoped>\n",
       "    .dataframe tbody tr th:only-of-type {\n",
       "        vertical-align: middle;\n",
       "    }\n",
       "\n",
       "    .dataframe tbody tr th {\n",
       "        vertical-align: top;\n",
       "    }\n",
       "\n",
       "    .dataframe thead th {\n",
       "        text-align: right;\n",
       "    }\n",
       "</style>\n",
       "<table border=\"1\" class=\"dataframe\">\n",
       "  <thead>\n",
       "    <tr style=\"text-align: right;\">\n",
       "      <th></th>\n",
       "      <th>date</th>\n",
       "      <th>precipitation</th>\n",
       "      <th>temp_max</th>\n",
       "      <th>temp_min</th>\n",
       "      <th>wind</th>\n",
       "      <th>weather</th>\n",
       "    </tr>\n",
       "  </thead>\n",
       "  <tbody>\n",
       "    <tr>\n",
       "      <th>0</th>\n",
       "      <td>2012-01-01</td>\n",
       "      <td>0.0</td>\n",
       "      <td>12.8</td>\n",
       "      <td>5.0</td>\n",
       "      <td>4.7</td>\n",
       "      <td>drizzle</td>\n",
       "    </tr>\n",
       "    <tr>\n",
       "      <th>1</th>\n",
       "      <td>2012-01-02</td>\n",
       "      <td>10.9</td>\n",
       "      <td>10.6</td>\n",
       "      <td>2.8</td>\n",
       "      <td>4.5</td>\n",
       "      <td>rain</td>\n",
       "    </tr>\n",
       "    <tr>\n",
       "      <th>2</th>\n",
       "      <td>2012-01-03</td>\n",
       "      <td>0.8</td>\n",
       "      <td>11.7</td>\n",
       "      <td>7.2</td>\n",
       "      <td>2.3</td>\n",
       "      <td>rain</td>\n",
       "    </tr>\n",
       "    <tr>\n",
       "      <th>3</th>\n",
       "      <td>2012-01-04</td>\n",
       "      <td>20.3</td>\n",
       "      <td>12.2</td>\n",
       "      <td>5.6</td>\n",
       "      <td>4.7</td>\n",
       "      <td>rain</td>\n",
       "    </tr>\n",
       "    <tr>\n",
       "      <th>4</th>\n",
       "      <td>2012-01-05</td>\n",
       "      <td>1.3</td>\n",
       "      <td>8.9</td>\n",
       "      <td>2.8</td>\n",
       "      <td>6.1</td>\n",
       "      <td>rain</td>\n",
       "    </tr>\n",
       "  </tbody>\n",
       "</table>\n",
       "</div>"
      ],
      "text/plain": [
       "         date  precipitation  temp_max  temp_min  wind  weather\n",
       "0  2012-01-01            0.0      12.8       5.0   4.7  drizzle\n",
       "1  2012-01-02           10.9      10.6       2.8   4.5     rain\n",
       "2  2012-01-03            0.8      11.7       7.2   2.3     rain\n",
       "3  2012-01-04           20.3      12.2       5.6   4.7     rain\n",
       "4  2012-01-05            1.3       8.9       2.8   6.1     rain"
      ]
     },
     "execution_count": 133,
     "metadata": {},
     "output_type": "execute_result"
    }
   ],
   "source": [
    "data.head()\n"
   ]
  },
  {
   "cell_type": "markdown",
   "metadata": {},
   "source": [
    "### Exploratory Data Analysis"
   ]
  },
  {
   "cell_type": "markdown",
   "metadata": {},
   "source": [
    "Biểu đồ thể hiện số lượng các loại thời tiết xảy ra"
   ]
  },
  {
   "cell_type": "code",
   "execution_count": 134,
   "metadata": {},
   "outputs": [
    {
     "data": {
      "text/plain": [
       "<AxesSubplot:xlabel='weather', ylabel='count'>"
      ]
     },
     "execution_count": 134,
     "metadata": {},
     "output_type": "execute_result"
    },
    {
     "data": {
      "image/png": "[encoded data removed]",
      "text/plain": [
       "<Figure size 432x288 with 1 Axes>"
      ]
     },
     "metadata": {
      "needs_background": "light"
     },
     "output_type": "display_data"
    }
   ],
   "source": [
    "sns.countplot(data=data, x='weather')"
   ]
  },
  {
   "cell_type": "code",
   "execution_count": 135,
   "metadata": {},
   "outputs": [
    {
     "name": "stdout",
     "output_type": "stream",
     "text": [
      "rain       641\n",
      "sun        640\n",
      "fog        101\n",
      "drizzle     53\n",
      "snow        26\n",
      "Name: weather, dtype: int64\n",
      "Rain:  641\n",
      "Fog:  101\n",
      "Drizzle:  53\n",
      "Snow:  26\n"
     ]
    }
   ],
   "source": [
    "total = data['weather'].count()\n",
    "rain = (data['weather']==\"rain\").sum()\n",
    "sun = (data['weather']==\"sun\").sum()\n",
    "fog = (data['weather']==\"fog\").sum()\n",
    "drizzle = (data['weather']==\"drizzle\").sum()\n",
    "snow = (data['weather']==\"snow\").sum()\n",
    "\n",
    "print(data['weather'].value_counts())\n",
    "print(\"Rain: \", rain)\n",
    "print(\"Fog: \", fog)\n",
    "print(\"Drizzle: \", drizzle)\n",
    "print(\"Snow: \", snow)"
   ]
  },
  {
   "cell_type": "markdown",
   "metadata": {},
   "source": [
    "Biểu đồ thể hiện sự phụ thuộc giữa cột **Weather** và các cột khác"
   ]
  },
  {
   "cell_type": "code",
   "execution_count": 136,
   "metadata": {},
   "outputs": [
    {
     "data": {
      "image/png": "[encoded data removed]",
      "text/plain": [
       "<Figure size 720x720 with 4 Axes>"
      ]
     },
     "metadata": {
      "needs_background": "light"
     },
     "output_type": "display_data"
    }
   ],
   "source": [
    "fig,axes = plt.subplots(2,2, figsize=(10,10))\n",
    "cols = ['precipitation', 'temp_max', 'temp_min', 'wind']\n",
    "for i in range(4):\n",
    "    sns.boxplot(x='weather', y=cols[i], data=data, ax=axes[i%2,i//2])"
   ]
  },
  {
   "cell_type": "markdown",
   "metadata": {},
   "source": [
    "Tiến hành bỏ cột **Date**"
   ]
  },
  {
   "cell_type": "code",
   "execution_count": 137,
   "metadata": {},
   "outputs": [],
   "source": [
    "data = data.drop(['date'], axis=1)"
   ]
  },
  {
   "cell_type": "markdown",
   "metadata": {},
   "source": [
    "Chuyển dữ liệu cột Weather về dạng: Rain: 0, Sun: 1, Fog: 2, Drizzle: 3, Snow: 4"
   ]
  },
  {
   "cell_type": "code",
   "execution_count": 138,
   "metadata": {},
   "outputs": [
    {
     "data": {
      "text/html": [
       "<div>\n",
       "<style scoped>\n",
       "    .dataframe tbody tr th:only-of-type {\n",
       "        vertical-align: middle;\n",
       "    }\n",
       "\n",
       "    .dataframe tbody tr th {\n",
       "        vertical-align: top;\n",
       "    }\n",
       "\n",
       "    .dataframe thead th {\n",
       "        text-align: right;\n",
       "    }\n",
       "</style>\n",
       "<table border=\"1\" class=\"dataframe\">\n",
       "  <thead>\n",
       "    <tr style=\"text-align: right;\">\n",
       "      <th></th>\n",
       "      <th>precipitation</th>\n",
       "      <th>temp_max</th>\n",
       "      <th>temp_min</th>\n",
       "      <th>wind</th>\n",
       "      <th>weather</th>\n",
       "    </tr>\n",
       "  </thead>\n",
       "  <tbody>\n",
       "    <tr>\n",
       "      <th>0</th>\n",
       "      <td>0.0</td>\n",
       "      <td>12.8</td>\n",
       "      <td>5.0</td>\n",
       "      <td>4.7</td>\n",
       "      <td>3</td>\n",
       "    </tr>\n",
       "    <tr>\n",
       "      <th>1</th>\n",
       "      <td>10.9</td>\n",
       "      <td>10.6</td>\n",
       "      <td>2.8</td>\n",
       "      <td>4.5</td>\n",
       "      <td>0</td>\n",
       "    </tr>\n",
       "    <tr>\n",
       "      <th>2</th>\n",
       "      <td>0.8</td>\n",
       "      <td>11.7</td>\n",
       "      <td>7.2</td>\n",
       "      <td>2.3</td>\n",
       "      <td>0</td>\n",
       "    </tr>\n",
       "    <tr>\n",
       "      <th>3</th>\n",
       "      <td>20.3</td>\n",
       "      <td>12.2</td>\n",
       "      <td>5.6</td>\n",
       "      <td>4.7</td>\n",
       "      <td>0</td>\n",
       "    </tr>\n",
       "    <tr>\n",
       "      <th>4</th>\n",
       "      <td>1.3</td>\n",
       "      <td>8.9</td>\n",
       "      <td>2.8</td>\n",
       "      <td>6.1</td>\n",
       "      <td>0</td>\n",
       "    </tr>\n",
       "  </tbody>\n",
       "</table>\n",
       "</div>"
      ],
      "text/plain": [
       "   precipitation  temp_max  temp_min  wind  weather\n",
       "0            0.0      12.8       5.0   4.7        3\n",
       "1           10.9      10.6       2.8   4.5        0\n",
       "2            0.8      11.7       7.2   2.3        0\n",
       "3           20.3      12.2       5.6   4.7        0\n",
       "4            1.3       8.9       2.8   6.1        0"
      ]
     },
     "execution_count": 138,
     "metadata": {},
     "output_type": "execute_result"
    }
   ],
   "source": [
    "data['weather'] = data['weather'].replace(\n",
    "    {'rain': 0, 'sun': 1, 'fog': 2, 'drizzle': 3, 'snow': 4})\n",
    "\n",
    "data.head()\n"
   ]
  },
  {
   "cell_type": "markdown",
   "metadata": {},
   "source": [
    "Lựa chọn các cột dùng để dự đoán dữ liệu cho cột **Weather**"
   ]
  },
  {
   "cell_type": "markdown",
   "metadata": {},
   "source": [
    "### Chia tập train và test"
   ]
  },
  {
   "cell_type": "code",
   "execution_count": 139,
   "metadata": {},
   "outputs": [],
   "source": [
    "X_train, X_test, y_train, y_test = train_test_split(data.drop(\n",
    "    ['weather'], axis=1), data['weather'], test_size=0.3, random_state=1)\n"
   ]
  },
  {
   "cell_type": "markdown",
   "metadata": {},
   "source": [
    "### Xử lý ngoại lệ"
   ]
  },
  {
   "cell_type": "markdown",
   "metadata": {},
   "source": [
    "Hàm xử lý ngoại lệ"
   ]
  },
  {
   "cell_type": "code",
   "execution_count": 140,
   "metadata": {},
   "outputs": [],
   "source": [
    "def boundary(data, column):\n",
    "    upper_boundary = data[column].mean() + 3 * data[column].std()\n",
    "    lower_boundary = data[column].mean() - 3 * data[column].std()\n",
    "    data.loc[data[column] >= int(upper_boundary), column] = int(upper_boundary)\n",
    "    data.loc[data[column] <= int(lower_boundary), column] = int(lower_boundary)\n",
    "    return lower_boundary, upper_boundary\n",
    "\n",
    "\n",
    "def bridge(data, column):\n",
    "    IQR = data[column].quantile(0.75) - data[column].quantile(0.25)\n",
    "    upper_bridge = data[column].quantile(0.75) + 3 * IQR\n",
    "    lower_bridge = data[column].quantile(0.25) - 3 * IQR\n",
    "    data.loc[data[column] >= int(upper_bridge), column] = int(upper_bridge)\n",
    "    data.loc[data[column] <= int(lower_bridge), column] = int(lower_bridge)\n",
    "    return lower_bridge, upper_bridge\n"
   ]
  },
  {
   "cell_type": "code",
   "execution_count": 141,
   "metadata": {},
   "outputs": [
    {
     "data": {
      "image/png": "[encoded data removed]",
      "text/plain": [
       "<Figure size 1080x720 with 4 Axes>"
      ]
     },
     "metadata": {
      "needs_background": "light"
     },
     "output_type": "display_data"
    }
   ],
   "source": [
    "plt.figure(figsize=(15, 10))\n",
    "plt.subplot(2, 2, 1)\n",
    "sns.histplot(data['precipitation'], discrete=True)\n",
    "plt.title('precipitation')\n",
    "plt.subplot(2, 2, 2)\n",
    "sns.histplot(data['temp_max'], discrete=True)\n",
    "plt.title('temp_max')\n",
    "plt.subplot(2, 2, 3)\n",
    "sns.histplot(data['temp_min'], discrete=True)\n",
    "plt.title('temp_min')\n",
    "plt.subplot(2, 2, 4)\n",
    "sns.histplot(data['wind'], discrete=True)\n",
    "plt.title('wind')\n",
    "plt.show()"
   ]
  },
  {
   "cell_type": "code",
   "execution_count": 142,
   "metadata": {},
   "outputs": [
    {
     "name": "stdout",
     "output_type": "stream",
     "text": [
      "X train:\n",
      "precipitation: (-9.0, 12.0)\n",
      "temp_max: (-5.8232233970784755, 38.626745901970835)\n",
      "temp_min: (-7.016508440873661, 23.49791744283061)\n",
      "wind: (-1.0688556655293726, 7.546546467877707)\n",
      "X test:\n",
      "precipitation: (-6.8999999999999995, 9.2)\n",
      "temp_max: (-5.131567497607389, 38.18350371628621)\n",
      "temp_min: (-6.417583516029779, 22.859496955665314)\n",
      "wind: (-1.0852994135551381, 7.578237910138281)\n"
     ]
    }
   ],
   "source": [
    "print('X train:')\n",
    "print('precipitation: {}'.format(bridge(X_train, 'precipitation')))\n",
    "print('temp_max: {}'.format(boundary(X_train, 'temp_max')))\n",
    "print('temp_min: {}'.format(boundary(X_train, 'temp_min')))\n",
    "print('wind: {}'.format(boundary(X_train, 'wind')))\n",
    "print('X test:')\n",
    "print('precipitation: {}'.format(bridge(X_test, 'precipitation')))\n",
    "print('temp_max: {}'.format(boundary(X_test, 'temp_max')))\n",
    "print('temp_min: {}'.format(boundary(X_test, 'temp_min')))\n",
    "print('wind: {}'.format(boundary(X_test, 'wind')))\n"
   ]
  },
  {
   "cell_type": "markdown",
   "metadata": {},
   "source": [
    "## Xây dựng, đánh giá mô hình và dự đoán"
   ]
  },
  {
   "cell_type": "markdown",
   "metadata": {},
   "source": [
    "### Hàm"
   ]
  },
  {
   "cell_type": "markdown",
   "metadata": {},
   "source": [
    "Hàm đánh giá độ chính xác mô hình với cross_val_score"
   ]
  },
  {
   "cell_type": "code",
   "execution_count": 143,
   "metadata": {},
   "outputs": [],
   "source": [
    "def get_accuracy_by_cross_val_score(X: np.array, y: np.array, best_params={}):\n",
    "    classifier = LogisticRegression() if not len(best_params) else LogisticRegression(\n",
    "        C=best_params['C'], penalty=best_params['penalty'], solver=best_params['solver'])\n",
    "    scores = cross_val_score(\n",
    "        classifier, X, y, cv=5, scoring='accuracy')\n",
    "    return scores.mean()\n"
   ]
  },
  {
   "cell_type": "markdown",
   "metadata": {},
   "source": [
    "Hàm tìm bộ tham số tốt nhất cho Logistic Regresstion"
   ]
  },
  {
   "cell_type": "code",
   "execution_count": 144,
   "metadata": {},
   "outputs": [],
   "source": [
    "def get_hyperparameters(X_train, X_test, y_train, y_test):\n",
    "    # Định nghĩa  model và tham số\n",
    "    model = LogisticRegression()\n",
    "    solvers = ['newton-cg', 'lbfgs', 'liblinear', 'sag', 'saga']\n",
    "    penalty = ['none', 'l1', 'l2', 'elasticnet']\n",
    "    c_values = [100, 10, 1.0, 0.1, 0.01]\n",
    "\n",
    "    grid = dict(solver=solvers, penalty=penalty, C=c_values)\n",
    "    cv = RepeatedStratifiedKFold(n_splits=10, n_repeats=3, random_state=1)\n",
    "    grid_search = GridSearchCV(estimator=model, param_grid=grid,\n",
    "                               n_jobs=-1, cv=cv, scoring='accuracy', error_score=0)\n",
    "    grid_result = grid_search.fit(X_train, y_train)\n",
    "\n",
    "    return grid_result.best_score_, grid_result.best_params_\n"
   ]
  },
  {
   "cell_type": "markdown",
   "metadata": {},
   "source": [
    "### Đánh giá độ chính xác của mô hình"
   ]
  },
  {
   "cell_type": "markdown",
   "metadata": {},
   "source": [
    "Đánh giá độ chính xác của mô hình với tham số mặc định"
   ]
  },
  {
   "cell_type": "code",
   "execution_count": 145,
   "metadata": {},
   "outputs": [
    {
     "name": "stdout",
     "output_type": "stream",
     "text": [
      "Đánh giá độ chính xác của mô hình với tham số mặc định: 84.124%\n"
     ]
    }
   ],
   "source": [
    "warnings.filterwarnings('ignore')\n",
    "\n",
    "accuracy_default_params = round(get_accuracy_by_cross_val_score(data.drop(\n",
    "    ['weather'], axis=1), data['weather']) * 100, 3)\n",
    "\n",
    "print(\"Đánh giá độ chính xác của mô hình với tham số mặc định: {}%\".format(\n",
    "    accuracy_default_params))\n"
   ]
  },
  {
   "cell_type": "markdown",
   "metadata": {},
   "source": [
    "Tìm bộ tham số tốt nhất cho Logistic Regresstion"
   ]
  },
  {
   "cell_type": "code",
   "execution_count": 146,
   "metadata": {},
   "outputs": [
    {
     "name": "stdout",
     "output_type": "stream",
     "text": [
      "Độ chính xác tốt nhất là: 0.85357573450092\n",
      "Bộ siêu tham số: {'C': 10, 'penalty': 'l2', 'solver': 'newton-cg'}\n"
     ]
    }
   ],
   "source": [
    "warnings.filterwarnings('ignore')\n",
    "\n",
    "best_score, best_params = get_hyperparameters(X_train, X_test, y_train, y_test)\n",
    "\n",
    "print(\"Độ chính xác tốt nhất là: {}\\nBộ siêu tham số: {}\".format(\n",
    "    best_score, best_params))\n"
   ]
  },
  {
   "cell_type": "markdown",
   "metadata": {},
   "source": [
    "Đánh giá độ chính xác của mô hình với siêu tham số"
   ]
  },
  {
   "cell_type": "code",
   "execution_count": 147,
   "metadata": {},
   "outputs": [
    {
     "name": "stdout",
     "output_type": "stream",
     "text": [
      "Đánh giá độ chính xác của mô hình với siêu tham số: 84.398%\n"
     ]
    }
   ],
   "source": [
    "accuracy_best_params = round(get_accuracy_by_cross_val_score(data.drop(\n",
    "    ['weather'], axis=1), data['weather'], best_params) * 100, 3)\n",
    "\n",
    "print(\"Đánh giá độ chính xác của mô hình với siêu tham số: {}%\".format(\n",
    "    accuracy_best_params))\n"
   ]
  },
  {
   "cell_type": "markdown",
   "metadata": {},
   "source": [
    "So sánh độ chính xác giữa 2 phương pháp"
   ]
  },
  {
   "cell_type": "code",
   "execution_count": 148,
   "metadata": {},
   "outputs": [
    {
     "name": "stdout",
     "output_type": "stream",
     "text": [
      "Độ chính xác chênh lệch giữa mô hình với siêu tham số và mô hình với tham số mặc định: 0.274 %\n"
     ]
    }
   ],
   "source": [
    "print(\"Độ chính xác chênh lệch giữa mô hình với siêu tham số và mô hình với tham số mặc định: {} %\".format(\n",
    "    round((accuracy_best_params - accuracy_default_params), 3)))\n"
   ]
  },
  {
   "cell_type": "markdown",
   "metadata": {},
   "source": [
    "Nhận xét:\n",
    "- Độ chính xác của mô hình với tham số mặc định: **84.124 %**\n",
    "- Độ chính xác của mô hình với siêu tham số: **84.398 %**\n",
    "- Sử dụng siêu tham số giúp độ chính xác của mô hình được cải thiện: **0.274 %**"
   ]
  },
  {
   "cell_type": "markdown",
   "metadata": {},
   "source": [
    "### Thử cải thiện độ chính xác bằng chuẩn hóa dữ liệu"
   ]
  },
  {
   "cell_type": "code",
   "execution_count": 149,
   "metadata": {},
   "outputs": [
    {
     "name": "stdout",
     "output_type": "stream",
     "text": [
      "Độ chính xác tốt nhất là: 0.85357573450092\n",
      "Bộ siêu tham số: {'C': 100, 'penalty': 'l2', 'solver': 'newton-cg'}\n",
      "Đánh giá độ chính xác của mô hình với siêu tham số: 84.398%\n"
     ]
    }
   ],
   "source": [
    "warnings.filterwarnings('ignore')\n",
    "\n",
    "# Chuẩn hóa dữ liệu\n",
    "# StandardScaler\n",
    "standard_scaler = StandardScaler()\n",
    "new_X_train = standard_scaler.fit_transform(X_train)\n",
    "new_X_test = standard_scaler.transform(X_test)\n",
    "\n",
    "best_score, best_params = get_hyperparameters(new_X_train, new_X_test, y_train, y_test)\n",
    "\n",
    "print(\"Độ chính xác tốt nhất là: {}\\nBộ siêu tham số: {}\".format(\n",
    "    best_score, best_params))\n",
    "\n",
    "accuracy_best_params = round(get_accuracy_by_cross_val_score(\n",
    "    data.drop(['weather'], axis=1), data['weather'], best_params) * 100, 3)\n",
    "\n",
    "print(\"Đánh giá độ chính xác của mô hình với siêu tham số: {}%\".format(\n",
    "    accuracy_best_params))\n"
   ]
  },
  {
   "cell_type": "code",
   "execution_count": 150,
   "metadata": {},
   "outputs": [
    {
     "name": "stdout",
     "output_type": "stream",
     "text": [
      "Độ chính xác tốt nhất là: 0.8529253125198297\n",
      "Bộ siêu tham số: {'C': 100, 'penalty': 'none', 'solver': 'newton-cg'}\n",
      "Đánh giá độ chính xác của mô hình với siêu tham số: 84.398%\n"
     ]
    }
   ],
   "source": [
    "# MinMaxScaler\n",
    "min_max_scaler = MinMaxScaler()\n",
    "new_X_train = min_max_scaler.fit_transform(X_train)\n",
    "new_X_test = min_max_scaler.transform(X_test)\n",
    "\n",
    "best_score, best_params = get_hyperparameters(new_X_train, new_X_test, y_train, y_test)\n",
    "\n",
    "print(\"Độ chính xác tốt nhất là: {}\\nBộ siêu tham số: {}\".format(\n",
    "    best_score, best_params))\n",
    "\n",
    "accuracy_best_params = round(get_accuracy_by_cross_val_score(\n",
    "    data.drop(['weather'], axis=1), data['weather'], best_params) * 100, 3)\n",
    "\n",
    "print(\"Đánh giá độ chính xác của mô hình với siêu tham số: {}%\".format(\n",
    "    accuracy_best_params))"
   ]
  },
  {
   "cell_type": "code",
   "execution_count": 151,
   "metadata": {},
   "outputs": [
    {
     "name": "stdout",
     "output_type": "stream",
     "text": [
      "Độ chính xác tốt nhất là: 0.8542293292721619\n",
      "Bộ siêu tham số: {'C': 100, 'penalty': 'l2', 'solver': 'sag'}\n",
      "Đánh giá độ chính xác của mô hình với siêu tham số: 82.207%\n"
     ]
    }
   ],
   "source": [
    "# RobustScaler\n",
    "robust_scaler = RobustScaler()\n",
    "new_X_train = robust_scaler.fit_transform(X_train)\n",
    "new_X_test = robust_scaler.transform(X_test)\n",
    "\n",
    "best_score, best_params = get_hyperparameters(new_X_train, new_X_test, y_train, y_test)\n",
    "\n",
    "print(\"Độ chính xác tốt nhất là: {}\\nBộ siêu tham số: {}\".format(\n",
    "    best_score, best_params))\n",
    "\n",
    "accuracy_best_params = round(get_accuracy_by_cross_val_score(\n",
    "    data.drop(['weather'], axis=1), data['weather'], best_params) * 100, 3)\n",
    "\n",
    "print(\"Đánh giá độ chính xác của mô hình với siêu tham số: {}%\".format(\n",
    "    accuracy_best_params))"
   ]
  },
  {
   "cell_type": "markdown",
   "metadata": {},
   "source": [
    "Nhận xét:\n",
    "- Chuẩn hóa dữ liệu đầu vào không làm cải thiện đánh giá độ chính xác của mô hình\n",
    "- Z-Score cải thiện: **0.0 %**\n",
    "- Min Max Scaler cải thiện: **0.0 %**\n",
    "- Robust Scaler làm giảm độ chính xác: **2.191 %**"
   ]
  }
 ],
 "metadata": {
  "interpreter": {
   "hash": "0d72b21489300652f2337cd7f80c57cc00ce6bbc92cf98d285c178d0a8ced433"
  },
  "kernelspec": {
   "display_name": "Python 3.10.1 64-bit",
   "language": "python",
   "name": "python3"
  },
  "language_info": {
   "codemirror_mode": {
    "name": "ipython",
    "version": 3
   },
   "file_extension": ".py",
   "mimetype": "text/x-python",
   "name": "python",
   "nbconvert_exporter": "python",
   "pygments_lexer": "ipython3",
   "version": "3.10.1"
  },
  "orig_nbformat": 4
 },
 "nbformat": 4,
 "nbformat_minor": 2
}
